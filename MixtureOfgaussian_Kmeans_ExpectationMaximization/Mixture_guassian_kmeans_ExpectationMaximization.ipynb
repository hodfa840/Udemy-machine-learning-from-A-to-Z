{
 "cells": [
  {
   "cell_type": "markdown",
   "id": "babdb950",
   "metadata": {},
   "source": [
    "# mixture of Gaussian"
   ]
  },
  {
   "cell_type": "markdown",
   "id": "4c5836a2",
   "metadata": {},
   "source": [
    "In the following segments we create a mixture model dataset with 3 coefficient."
   ]
  },
  {
   "cell_type": "code",
   "execution_count": 1,
   "id": "86626af6",
   "metadata": {},
   "outputs": [
    {
     "name": "stderr",
     "output_type": "stream",
     "text": [
      "Warning message:\n",
      "\"package 'MASS' was built under R version 4.0.5\"\n"
     ]
    }
   ],
   "source": [
    "#creating the dataset\n",
    "set.seed(12345)\n",
    "n = 400\n",
    "\n",
    "gen.mix <- function(n,mu,k,sig){\n",
    "  library(MASS)\n",
    "  \n",
    "  d = length(mu[1,]) # dim of the data points\n",
    "  \n",
    "  results = array(NA,c(n,d))\n",
    "  for(i in 1:n){\n",
    "    \n",
    "    results[i,] = mvrnorm(n = 1,mu = mu[k[i],],Sigma = sig[, ,k[i]])\n",
    "  }\n",
    "  return(results)\n",
    "}\n",
    "# number of component is 3\n",
    "pi  <- c(.3,.5,.2)   # mixing coeffs\n",
    "\n",
    "# the data is in 2-D\n",
    "# we start with 3 vector of size for mu\n",
    "\n",
    "mu = matrix(NA, ncol = 2,nrow = 3)\n",
    "mu = matrix(c(17,8\n",
    "              ,18,9.5,\n",
    "              19,7.7),ncol = 2,byrow = TRUE)\n",
    "\n",
    "# covariance matrix is sigma :: a 3 matrix of size 2*2 (one for each class)\n",
    "\n",
    "# create an empty array for sigma\n",
    "\n",
    "sigs = array(rep(NA),c(2,2,3)) # 3D matrix\n",
    "\n",
    "sigs[ , , 1] = matrix(c(.3,.2,.2,.3),ncol = 2,byrow = TRUE)\n",
    "sigs[ , , 2] = matrix(c(.3,-.2,-.2,.3),ncol = 2,byrow = TRUE)\n",
    "sigs[ , , 3] = matrix(c(.3,.2,.2,.3),ncol = 2,byrow = TRUE)\n",
    "\n",
    "classes = sample(1:3,size = n,replace = TRUE, prob=pi)\n",
    "#dataset constructed by a mixture of three Gaussians\n",
    "data = gen.mix(n = 400,k = classes,sig = sigs,mu = mu)\n",
    "\n",
    "dev.new()\n",
    "plot(data,col=c(2,11,4)[classes],pch=19, xlab=\"X1\", ylab=\"X2\")\n",
    "\n",
    "\n"
   ]
  },
  {
   "cell_type": "code",
   "execution_count": 2,
   "id": "902bd267",
   "metadata": {},
   "outputs": [
    {
     "data": {
      "image/png": "[encoded data removed]",
      "text/plain": [
       "plot without title"
      ]
     },
     "metadata": {
      "image/png": {
       "height": 420,
       "width": 420
      }
     },
     "output_type": "display_data"
    }
   ],
   "source": [
    "plot(data,col=c(2,11,4)[classes],pch=19, xlab=\"X1\", ylab=\"X2\")\n"
   ]
  },
  {
   "cell_type": "markdown",
   "id": "8441e0fa",
   "metadata": {},
   "source": [
    "# Kmeans"
   ]
  },
  {
   "cell_type": "markdown",
   "id": "7b93071e",
   "metadata": {},
   "source": [
    " ### dataset:\n",
    " \n",
    " $x=(x_1,\\ldots,x_n)$"
   ]
  },
  {
   "cell_type": "markdown",
   "id": "f54bfdd0",
   "metadata": {},
   "source": [
    "$K$\n",
    "\n",
    "different classes"
   ]
  },
  {
   "cell_type": "markdown",
   "id": "dd8dc0f3",
   "metadata": {},
   "source": [
    "#### the objective function:\n",
    "\n",
    "\n",
    "$J = \\sum_{n=1}^N \\sum_{k=1}^K r_{nk} \\| x_n - \\mu_k \\|^2$"
   ]
  },
  {
   "cell_type": "markdown",
   "id": "ae56d079",
   "metadata": {},
   "source": [
    "we wish to assign each datapoint $x_i$ to a cluster $k$, such that the points of the same cluster are closer to each other, than to the points of the other clusters."
   ]
  },
  {
   "cell_type": "code",
   "execution_count": 3,
   "id": "1f9aad34",
   "metadata": {},
   "outputs": [],
   "source": [
    "##########################################\n",
    "############K-Means#######################\n",
    "\n",
    "\n",
    "k_means = function(dataset,K, max_iter = 100 ){\n",
    "  \n",
    "  d = ncol(dataset) #number of data dimension\n",
    "  N = nrow(dataset) #number of data\n",
    "  ranges = sapply(1:d, function(x) range(dataset[,x])) # the range for dimension\n",
    "  \n",
    "  #initializing cluster centers to a Random value\n",
    "  \n",
    "  mu = t(replicate(K,sapply(1:d, function(x) runif(1,ranges[1,x],ranges[2,x]))))\n",
    "  \n",
    "  \n",
    "  # to get the class from the maximum value of indicator for each data\n",
    "  \n",
    "  get_class <- function(rnk)\n",
    "    apply(rnk, 1, function(x) which.max(x))\n",
    "  \n",
    "  rnk = matrix(rep(0,N*K),nrow=N,ncol=K)\n",
    "  old_class = get_class(rnk)\n",
    "  \n",
    "  # the K-means Algorithm\n",
    "  \n",
    "  for (it in 1:max_iter) {\n",
    "    \n",
    "    # update indicators for each datapoint\n",
    "    \n",
    "    for(n in 1:N){\n",
    "    \n",
    "        distance = sapply(1:K, function(k) norm(as.matrix(dataset[n,]) - mu[k,],\"F\"))\n",
    "        rnk[n, which.min(distance)] = 1\n",
    "      \n",
    "    }\n",
    "    \n",
    "    classes = get_class(rnk)\n",
    "    \n",
    "    if(all(old_class == classes))\n",
    "      break # we have reached convergence\n",
    "    \n",
    "    old_class = classes\n",
    "    \n",
    "    #updating centers\n",
    "    \n",
    "    for(k in 1:K){\n",
    "      mu[k,] = rnk[,k] %*% dataset /sum(rnk[,k])\n",
    "      }\n",
    "    \n",
    "  }\n",
    "  \n",
    "  \n",
    "  list(mu = mu, pred = classes)\n",
    "\n",
    "}\n",
    "\n",
    "\n",
    "\n"
   ]
  },
  {
   "cell_type": "code",
   "execution_count": 4,
   "id": "594c51d1",
   "metadata": {},
   "outputs": [
    {
     "data": {
      "image/png": "[encoded data removed]",
      "text/plain": [
       "plot without title"
      ]
     },
     "metadata": {
      "image/png": {
       "height": 420,
       "width": 420
      }
     },
     "output_type": "display_data"
    }
   ],
   "source": [
    "resuts = k_means(data,3)\n",
    "\n",
    "plot(data,pch=19,col = c(2,11,4)[resuts$pred], xlab=\"X1\", ylab=\"X2\")\n",
    "\n",
    "#plotcenters\n",
    "\n",
    "points(resuts$mu,pch = 4,lwd =5 )"
   ]
  },
  {
   "cell_type": "code",
   "execution_count": null,
   "id": "34d66e39",
   "metadata": {},
   "outputs": [],
   "source": []
  }
 ],
 "metadata": {
  "kernelspec": {
   "display_name": "R",
   "language": "R",
   "name": "ir"
  },
  "language_info": {
   "codemirror_mode": "r",
   "file_extension": ".r",
   "mimetype": "text/x-r-source",
   "name": "R",
   "pygments_lexer": "r",
   "version": "4.0.3"
  },
  "latex_envs": {
   "LaTeX_envs_menu_present": true,
   "autoclose": false,
   "autocomplete": true,
   "bibliofile": "biblio.bib",
   "cite_by": "apalike",
   "current_citInitial": 1,
   "eqLabelWithNumbers": true,
   "eqNumInitial": 1,
   "hotkeys": {
    "equation": "Ctrl-E",
    "itemize": "Ctrl-I"
   },
   "labels_anchors": false,
   "latex_user_defs": false,
   "report_style_numbering": false,
   "user_envs_cfg": false
  },
  "toc": {
   "base_numbering": 1,
   "nav_menu": {},
   "number_sections": false,
   "sideBar": true,
   "skip_h1_title": false,
   "title_cell": "Table of Contents",
   "title_sidebar": "Contents",
   "toc_cell": false,
   "toc_position": {},
   "toc_section_display": true,
   "toc_window_display": false
  },
  "varInspector": {
   "cols": {
    "lenName": 16,
    "lenType": 16,
    "lenVar": 40
   },
   "kernels_config": {
    "python": {
     "delete_cmd_postfix": "",
     "delete_cmd_prefix": "del ",
     "library": "var_list.py",
     "varRefreshCmd": "print(var_dic_list())"
    },
    "r": {
     "delete_cmd_postfix": ") ",
     "delete_cmd_prefix": "rm(",
     "library": "var_list.r",
     "varRefreshCmd": "cat(var_dic_list()) "
    }
   },
   "types_to_exclude": [
    "module",
    "function",
    "builtin_function_or_method",
    "instance",
    "_Feature"
   ],
   "window_display": false
  }
 },
 "nbformat": 4,
 "nbformat_minor": 5
}
